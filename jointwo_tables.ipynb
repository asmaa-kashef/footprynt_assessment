{
 "cells": [
  {
   "cell_type": "code",
   "execution_count": null,
   "id": "6ad28e34",
   "metadata": {},
   "outputs": [],
   "source": [
    "pip install Flask"
   ]
  },
  {
   "cell_type": "code",
   "execution_count": 1,
   "id": "d0d6f0f9",
   "metadata": {},
   "outputs": [
    {
     "name": "stdout",
     "output_type": "stream",
     "text": [
      "Collecting flask-sqlalchemy\n",
      "  Using cached Flask_SQLAlchemy-2.5.1-py2.py3-none-any.whl (17 kB)\n",
      "Requirement already satisfied: Flask>=0.10 in c:\\users\\asmaa\\anaconda3\\lib\\site-packages (from flask-sqlalchemy) (1.1.2)\n",
      "Requirement already satisfied: SQLAlchemy>=0.8.0 in c:\\users\\asmaa\\anaconda3\\lib\\site-packages (from flask-sqlalchemy) (1.4.7)\n",
      "Requirement already satisfied: itsdangerous>=0.24 in c:\\users\\asmaa\\anaconda3\\lib\\site-packages (from Flask>=0.10->flask-sqlalchemy) (1.1.0)\n",
      "Requirement already satisfied: Jinja2>=2.10.1 in c:\\users\\asmaa\\anaconda3\\lib\\site-packages (from Flask>=0.10->flask-sqlalchemy) (2.11.3)\n",
      "Requirement already satisfied: Werkzeug>=0.15 in c:\\users\\asmaa\\anaconda3\\lib\\site-packages (from Flask>=0.10->flask-sqlalchemy) (1.0.1)\n",
      "Requirement already satisfied: click>=5.1 in c:\\users\\asmaa\\anaconda3\\lib\\site-packages (from Flask>=0.10->flask-sqlalchemy) (7.1.2)\n",
      "Requirement already satisfied: MarkupSafe>=0.23 in c:\\users\\asmaa\\anaconda3\\lib\\site-packages (from Jinja2>=2.10.1->Flask>=0.10->flask-sqlalchemy) (1.1.1)\n",
      "Requirement already satisfied: greenlet!=0.4.17 in c:\\users\\asmaa\\anaconda3\\lib\\site-packages (from SQLAlchemy>=0.8.0->flask-sqlalchemy) (1.0.0)\n",
      "Installing collected packages: flask-sqlalchemy\n",
      "Successfully installed flask-sqlalchemy-2.5.1\n",
      "Note: you may need to restart the kernel to use updated packages.\n"
     ]
    }
   ],
   "source": [
    "pip install flask-sqlalchemy"
   ]
  },
  {
   "cell_type": "code",
   "execution_count": 1,
   "id": "ce3435f1",
   "metadata": {},
   "outputs": [
    {
     "name": "stdout",
     "output_type": "stream",
     "text": [
      "Collecting pysqlite3\n",
      "  Downloading pysqlite3-0.4.7.tar.gz (40 kB)\n",
      "Building wheels for collected packages: pysqlite3\n",
      "  Building wheel for pysqlite3 (setup.py): started\n",
      "  Building wheel for pysqlite3 (setup.py): finished with status 'done'\n",
      "  Running setup.py clean for pysqlite3\n",
      "Failed to build pysqlite3\n",
      "Installing collected packages: pysqlite3\n",
      "    Running setup.py install for pysqlite3: started\n",
      "    Running setup.py install for pysqlite3: finished with status 'done'\n",
      "Successfully installed pysqlite3\n",
      "Note: you may need to restart the kernel to use updated packages.\n"
     ]
    },
    {
     "name": "stderr",
     "output_type": "stream",
     "text": [
      "  WARNING: Legacy build of wheel for 'pysqlite3' created no files.\n",
      "  Command arguments: 'C:\\Users\\asmaa\\anaconda3\\python.exe' -u -c 'import sys, setuptools, tokenize; sys.argv[0] = '\"'\"'C:\\\\Users\\\\asmaa\\\\AppData\\\\Local\\\\Temp\\\\pip-install-oyplt0q3\\\\pysqlite3_fe8ada7dfcae429681f36486fa6a94ce\\\\setup.py'\"'\"'; __file__='\"'\"'C:\\\\Users\\\\asmaa\\\\AppData\\\\Local\\\\Temp\\\\pip-install-oyplt0q3\\\\pysqlite3_fe8ada7dfcae429681f36486fa6a94ce\\\\setup.py'\"'\"';f=getattr(tokenize, '\"'\"'open'\"'\"', open)(__file__);code=f.read().replace('\"'\"'\\r\\n'\"'\"', '\"'\"'\\n'\"'\"');f.close();exec(compile(code, __file__, '\"'\"'exec'\"'\"'))' bdist_wheel -d 'C:\\Users\\asmaa\\AppData\\Local\\Temp\\pip-wheel-9j9af7h5'\n",
      "  Command output: [use --verbose to show]\n"
     ]
    }
   ],
   "source": [
    "pip install pysqlite3 "
   ]
  },
  {
   "cell_type": "code",
   "execution_count": 1,
   "id": "dc7dc040",
   "metadata": {},
   "outputs": [],
   "source": [
    "from flask import Flask \n",
    "from flask_sqlalchemy import SQLAlchemy"
   ]
  },
  {
   "cell_type": "code",
   "execution_count": 2,
   "id": "90cba871",
   "metadata": {},
   "outputs": [],
   "source": [
    "app = Flask(__name__)\n",
    "app.config['SQLALCHEMY_DATABASE_URI'] ='sqlite:///company.db'\n",
    "app.config['SQLALCHEMY_TRACK_MODIFICATIONS'] = False"
   ]
  },
  {
   "cell_type": "code",
   "execution_count": 3,
   "id": "79d2b7fa",
   "metadata": {},
   "outputs": [],
   "source": [
    "db = SQLAlchemy(app)"
   ]
  },
  {
   "cell_type": "code",
   "execution_count": 4,
   "id": "4253efcc",
   "metadata": {},
   "outputs": [],
   "source": [
    "class Company(db.Model):\n",
    "    id = db.Column(db.Integer, primary_key=True)\n",
    "    name = db.Column(db.String(50))"
   ]
  },
  {
   "cell_type": "code",
   "execution_count": 5,
   "id": "abdba8a5",
   "metadata": {},
   "outputs": [],
   "source": [
    "class Department(db.Model):\n",
    "    id = db.Column(db.Integer, primary_key=True)\n",
    "    company_id = db.Column(db.Integer, db.ForeignKey('company.id'))\n",
    "    name = db.Column(db.String(50))"
   ]
  },
  {
   "cell_type": "code",
   "execution_count": 6,
   "id": "663f4345",
   "metadata": {},
   "outputs": [],
   "source": [
    "class Employee(db.Model):\n",
    "    id = db.Column(db.Integer, primary_key=True)\n",
    "    department_id = db.Column(db.Integer, db.ForeignKey('department.id'))\n",
    "    name = db.Column(db.String(50))\n",
    "    salary = db.Column(db.Integer)"
   ]
  },
  {
   "cell_type": "code",
   "execution_count": 7,
   "id": "ddd79644",
   "metadata": {},
   "outputs": [],
   "source": [
    "db.create_all()"
   ]
  },
  {
   "cell_type": "code",
   "execution_count": 8,
   "id": "ce7dc8c6",
   "metadata": {},
   "outputs": [],
   "source": [
    "company1 = Company(name='Acme')\n",
    "company2 = Company(name='Steel Industries')\n",
    "company3 = Company(name='Tech Solutions')\n",
    "company4 = Company(name='Generic Food')\n",
    "db.session.add_all([company1,company2,company3,company4])\n",
    "db.session.commit()"
   ]
  },
  {
   "cell_type": "code",
   "execution_count": 9,
   "id": "699b4949",
   "metadata": {},
   "outputs": [],
   "source": [
    "dep1 = Department(name='Sales',company_id=1)\n",
    "dep2 = Department(name='Human Resources',company_id=1)\n",
    "dep3 = Department(name='Accounting',company_id=1)"
   ]
  },
  {
   "cell_type": "code",
   "execution_count": 10,
   "id": "11315634",
   "metadata": {},
   "outputs": [],
   "source": [
    "dep4 = Department(name='Receiving',company_id=2)\n",
    "dep5 = Department(name='Finance',company_id=2)\n",
    "dep6 = Department(name='Engineering',company_id=2)"
   ]
  },
  {
   "cell_type": "code",
   "execution_count": 11,
   "id": "d720e7ee",
   "metadata": {},
   "outputs": [],
   "source": [
    "dep7 = Department(name='Quality Assurance',company_id=3)\n",
    "dep8 = Department(name='Information Technology',company_id=3)\n",
    "dep9 = Department(name='Office Support',company_id=3)"
   ]
  },
  {
   "cell_type": "code",
   "execution_count": 12,
   "id": "34cf3fdc",
   "metadata": {},
   "outputs": [],
   "source": [
    "dep10 = Department(name='Food Processing',company_id=4)\n",
    "dep11 = Department(name='Customer Support',company_id=4)\n",
    "dep12 = Department(name='Shipping',company_id=4)"
   ]
  },
  {
   "cell_type": "code",
   "execution_count": 13,
   "id": "d8cdf6ca",
   "metadata": {},
   "outputs": [],
   "source": [
    "db.session.add_all([dep1, dep2, dep3, dep4, dep5, dep6, dep7, dep8, dep9, dep10, dep11, dep12])\n",
    "db.session.commit()"
   ]
  },
  {
   "cell_type": "code",
   "execution_count": 14,
   "id": "f4e88ed4",
   "metadata": {},
   "outputs": [],
   "source": [
    "employee1 = Employee(department_id=1,name=\"asmaa\",salary=1000)\n",
    "employee2 = Employee(department_id=2,name=\"asmaa\",salary=1000)\n",
    "db.session.add_all([employee1,employee2])\n",
    "db.session.commit()"
   ]
  },
  {
   "cell_type": "code",
   "execution_count": 15,
   "id": "24ee4c26",
   "metadata": {},
   "outputs": [],
   "source": [
    "results = db.session.query(Employee, Department).join(Department).all()"
   ]
  },
  {
   "cell_type": "code",
   "execution_count": 16,
   "id": "34fc320f",
   "metadata": {},
   "outputs": [
    {
     "name": "stdout",
     "output_type": "stream",
     "text": [
      "asmaa Sales\n",
      "asmaa Human Resources\n"
     ]
    }
   ],
   "source": [
    "for employee, department in results:\n",
    "    print(employee.name, department.name)"
   ]
  },
  {
   "cell_type": "code",
   "execution_count": null,
   "id": "d4b7dbe1",
   "metadata": {},
   "outputs": [],
   "source": []
  }
 ],
 "metadata": {
  "kernelspec": {
   "display_name": "Python 3",
   "language": "python",
   "name": "python3"
  },
  "language_info": {
   "codemirror_mode": {
    "name": "ipython",
    "version": 3
   },
   "file_extension": ".py",
   "mimetype": "text/x-python",
   "name": "python",
   "nbconvert_exporter": "python",
   "pygments_lexer": "ipython3",
   "version": "3.8.8"
  }
 },
 "nbformat": 4,
 "nbformat_minor": 5
}
